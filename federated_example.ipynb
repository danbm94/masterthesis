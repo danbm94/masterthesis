{
 "cells": [
  {
   "cell_type": "markdown",
   "metadata": {},
   "source": [
    "# Building your own federated learning algorithm\n",
    "## Tensorflow"
   ]
  },
  {
   "cell_type": "code",
   "execution_count": 1,
   "metadata": {},
   "outputs": [],
   "source": [
    "%pip install --quiet --upgrade tensorflow-federated-nightly\n",
    "%pip install --quiet --upgrade nest-asyncio\n",
    "\n",
    "import nest_asyncio\n",
    "nest_asyncio.apply()"
   ]
  },
  {
   "cell_type": "code",
   "execution_count": 2,
   "metadata": {},
   "outputs": [],
   "source": [
    "import tensorflow as tf\n",
    "import tensorflow_federated as tff"
   ]
  },
  {
   "cell_type": "code",
   "execution_count": 3,
   "metadata": {},
   "outputs": [
    {
     "name": "stderr",
     "output_type": "stream",
     "text": [
      "Downloading emnist_all.sqlite.lzma: 100%|██████████| 170507172/170507172 [00:30<00:00, 5633346.62it/s]\n"
     ]
    }
   ],
   "source": [
    "# Load the dataset\n",
    "emnist_train, emnist_test = tff.simulation.datasets.emnist.load_data()"
   ]
  },
  {
   "cell_type": "code",
   "execution_count": 5,
   "metadata": {},
   "outputs": [],
   "source": [
    "NUM_CLIENTS= 10\n",
    "BATCH_SIZE= 20\n",
    "def preprocess(dataset):\n",
    "    def batch_format_fn(element):\n",
    "        \"\"\"Flatten a batch of EMNIST data and return a (features, label) tuple.\"\"\"\n",
    "        return (tf.reshape(element['pixels'], [-1, 784]), \n",
    "                tf.reshape(element['label'], [-1, 1]))\n",
    "    return dataset.batch(BATCH_SIZE).map(batch_format_fn)"
   ]
  },
  {
   "cell_type": "code",
   "execution_count": 6,
   "metadata": {},
   "outputs": [],
   "source": [
    "client_ids = sorted(emnist_train.client_ids)[:NUM_CLIENTS]\n",
    "federated_train_data = [preprocess(emnist_train.create_tf_dataset_for_client(x))\n",
    "  for x in client_ids\n",
    "]"
   ]
  },
  {
   "cell_type": "code",
   "execution_count": 7,
   "metadata": {},
   "outputs": [],
   "source": [
    "def create_keras_model():\n",
    "    initializer = tf.keras.initializers.GlorotNormal(seed=0)\n",
    "    return tf.keras.Sequential([\n",
    "        tf.keras.layers.Input(shape=(784,)),\n",
    "        tf.keras.layers.Dense(10, kernel_initializer=initializer),\n",
    "        tf.keras.layers.Softmax(),\n",
    "    ])"
   ]
  },
  {
   "cell_type": "code",
   "execution_count": 8,
   "metadata": {},
   "outputs": [],
   "source": [
    "#Wrap the model as a federated model\n",
    "def model_fn():\n",
    "    keras_model = create_keras_model()\n",
    "    return tff.learning.from_keras_model(\n",
    "        keras_model,\n",
    "        input_spec=federated_train_data[0].element_spec,\n",
    "        loss=tf.keras.losses.SparseCategoricalCrossentropy(),\n",
    "        metrics=[tf.keras.metrics.SparseCategoricalAccuracy()]\n",
    "    )"
   ]
  },
  {
   "cell_type": "code",
   "execution_count": 9,
   "metadata": {},
   "outputs": [],
   "source": [
    "#initialize function that creates a tff.learning model\n",
    "def initialize_fn():\n",
    "    model=model_fn()\n",
    "    return model.trainable_variables"
   ]
  },
  {
   "cell_type": "code",
   "execution_count": 10,
   "metadata": {},
   "outputs": [],
   "source": [
    "#sketch next fn\n",
    "def next_fn(server_weights,federated_dataset):\n",
    "    #Broadcast the server weights to the clients\n",
    "    server_weights_at_client = broadcast(server_weights)\n",
    "\n",
    "    #each client computes their updated weights\n",
    "    client_weights = client_update(federated_dataset, server_weights_at_client)\n",
    "\n",
    "    #The server averages these updates\n",
    "    mean_client_weights = mean(client_weights)\n",
    "\n",
    "    #the server updates its model\n",
    "    server_weights = server_update(mean_client_weights)\n",
    "\n",
    "    return server_weights"
   ]
  },
  {
   "cell_type": "markdown",
   "metadata": {},
   "source": [
    "## Client update"
   ]
  },
  {
   "cell_type": "code",
   "execution_count": null,
   "metadata": {},
   "outputs": [],
   "source": [
    "@tf.function\n",
    "def client_update(model, dataset, server_weights, client_optimizer):\n",
    "  \"\"\"Performs training (using the server model weights) on the client's dataset.\"\"\"\n",
    "  # Initialize the client model with the current server weights.\n",
    "  client_weights = model.trainable_variables\n",
    "  # Assign the server weights to the client model.\n",
    "  tf.nest.map_structure(lambda x, y: x.assign(y),\n",
    "                        client_weights, server_weights)\n",
    "\n",
    "  # Use the client_optimizer to update the local model.\n",
    "  for batch in dataset:\n",
    "    with tf.GradientTape() as tape:\n",
    "      # Compute a forward pass on the batch of data\n",
    "      outputs = model.forward_pass(batch)\n",
    "\n",
    "    # Compute the corresponding gradient\n",
    "    grads = tape.gradient(outputs.loss, client_weights)\n",
    "    grads_and_vars = zip(grads, client_weights)\n",
    "\n",
    "    # Apply the gradient using a client optimizer.\n",
    "    client_optimizer.apply_gradients(grads_and_vars)\n",
    "\n",
    "  return client_weights"
   ]
  },
  {
   "cell_type": "markdown",
   "metadata": {},
   "source": [
    "## Server update"
   ]
  },
  {
   "cell_type": "code",
   "execution_count": 11,
   "metadata": {},
   "outputs": [],
   "source": [
    "@tf.function\n",
    "def server_update(model, mean_cleint_weights):\n",
    "    '''Updates the server model weights as the average of the clients model weights '''\n",
    "    model_weights= model.trainable_variables\n",
    "    # assign the mean client weights to the server model.\n",
    "    tf.nest.map_structure(lambda x, y:x.assign(y),\n",
    "                        model_weights, mean_cleint_weights )\n",
    "    return model_weights"
   ]
  },
  {
   "cell_type": "markdown",
   "metadata": {},
   "source": []
  }
 ],
 "metadata": {
  "interpreter": {
   "hash": "43ffa8d48b9ec0e7a69f598496eaa6d654e776178a0f9614f788c0be45b030b4"
  },
  "kernelspec": {
   "display_name": "Python 3.9.7 64-bit ('thesis': conda)",
   "language": "python",
   "name": "python3"
  },
  "language_info": {
   "codemirror_mode": {
    "name": "ipython",
    "version": 3
   },
   "file_extension": ".py",
   "mimetype": "text/x-python",
   "name": "python",
   "nbconvert_exporter": "python",
   "pygments_lexer": "ipython3",
   "version": "3.9.7"
  },
  "orig_nbformat": 4
 },
 "nbformat": 4,
 "nbformat_minor": 2
}
